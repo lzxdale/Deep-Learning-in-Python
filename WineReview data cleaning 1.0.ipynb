{
 "cells": [
  {
   "cell_type": "markdown",
   "metadata": {},
   "source": [
    "## 1. DATA Cleaning"
   ]
  },
  {
   "cell_type": "code",
   "execution_count": 2,
   "metadata": {},
   "outputs": [
    {
     "name": "stderr",
     "output_type": "stream",
     "text": [
      "/Users/linzexiang/anaconda3/lib/python3.6/site-packages/ipykernel_launcher.py:10: FutureWarning: Sorting because non-concatenation axis is not aligned. A future version\n",
      "of pandas will change to not sort by default.\n",
      "\n",
      "To accept the future behavior, pass 'sort=True'.\n",
      "\n",
      "To retain the current behavior and silence the warning, pass sort=False\n",
      "\n",
      "  # Remove the CWD from sys.path while we load stuff.\n"
     ]
    }
   ],
   "source": [
    "import pandas as pd\n",
    "import matplotlib\n",
    "import matplotlib.pyplot as plt\n",
    "import re\n",
    "import numpy as np\n",
    "\n",
    "st1 = pd.read_csv('train1.csv') #\n",
    "st2 = pd.read_csv('train2.csv')\n",
    "st3 = pd.concat([st1,st2])"
   ]
  },
  {
   "cell_type": "markdown",
   "metadata": {},
   "source": [
    "### Distribution of the score\n",
    "\n",
    "It seems like distributed normally, like a bell shape.\n",
    "Then it is easy to standarlize."
   ]
  },
  {
   "cell_type": "code",
   "execution_count": 3,
   "metadata": {},
   "outputs": [
    {
     "data": {
      "image/png": "[encoded data removed]",
      "text/plain": [
       "<Figure size 432x288 with 1 Axes>"
      ]
     },
     "metadata": {},
     "output_type": "display_data"
    }
   ],
   "source": [
    "st4 = st3.loc[:,['description', 'points']]\n",
    "plt.hist(st4['points'], bins = 100)\n",
    "plt.show()"
   ]
  },
  {
   "cell_type": "markdown",
   "metadata": {},
   "source": [
    "#### This is one of the sample input data for our model (description)"
   ]
  },
  {
   "cell_type": "code",
   "execution_count": 4,
   "metadata": {},
   "outputs": [
    {
     "name": "stdout",
     "output_type": "stream",
     "text": [
      "Ripe aromas of fig, blackberry and cassis are softened and sweetened by a slathering of oaky chocolate and vanilla. This is full, layered, intense and cushioned on the palate, with rich flavors of chocolaty black fruits and baking spices. A toasty, everlasting finish is heady but ideally balanced. Drink through 2023.\n"
     ]
    }
   ],
   "source": [
    "dict1 = st3.iloc[1,2]\n",
    "print(dict1)"
   ]
  },
  {
   "cell_type": "markdown",
   "metadata": {},
   "source": [
    "#### Append all sentence into one string to make our embedding dictionary"
   ]
  },
  {
   "cell_type": "markdown",
   "metadata": {},
   "source": [
    "#### dict1 part was writen as csv for save point "
   ]
  },
  {
   "cell_type": "code",
   "execution_count": null,
   "metadata": {},
   "outputs": [],
   "source": [
    "#### This code is used only once to create word dictionary. ####\n",
    "#st3.iloc[1,2] + \"\" + st3.iloc[2,2]\n",
    "dict1 = \"\"\n",
    "for i in range(len(st3.iloc[:,2])-1):\n",
    "    dict1 = dict1 + \" \" + st3.iloc[i,2]"
   ]
  },
  {
   "cell_type": "code",
   "execution_count": 6,
   "metadata": {},
   "outputs": [],
   "source": [
    "text_file = open(\"Output.txt\", \"w\")\n",
    "\n",
    "text_file.write(dict1)\n",
    "\n",
    "#dict1 = text_file.read()\n",
    "\n",
    "text_file.close()"
   ]
  },
  {
   "cell_type": "code",
   "execution_count": 7,
   "metadata": {},
   "outputs": [],
   "source": [
    "text_file = open(\"Output.txt\", \"r\")\n",
    "dict1 = text_file.read()\n",
    "text_file.close()"
   ]
  },
  {
   "cell_type": "code",
   "execution_count": 8,
   "metadata": {},
   "outputs": [
    {
     "data": {
      "text/plain": [
       "' This tremendous 100% varietal wine hails from Oakville and was aged over three years in oak. Juicy '"
      ]
     },
     "execution_count": 8,
     "metadata": {},
     "output_type": "execute_result"
    }
   ],
   "source": [
    "dict1[:100]"
   ]
  },
  {
   "cell_type": "markdown",
   "metadata": {},
   "source": [
    "## drop all simples (non-alphabet)"
   ]
  },
  {
   "cell_type": "markdown",
   "metadata": {},
   "source": [
    "#### Cleaning of the string\n",
    "Want to remove all weird and irrelevant signs"
   ]
  },
  {
   "cell_type": "code",
   "execution_count": 9,
   "metadata": {},
   "outputs": [],
   "source": [
    "def cleanstring(sentence):\n",
    "    sentence = sentence.lower() # Uncapitalize all the word\n",
    "    sentence = re.sub(re.compile(r\"[.,?!-\\/:;“’‘–\\\\)•(-@[-`{-~—+'”%]\"),\"\", sentence) # replace all symbol into blank space\n",
    "    sentence = sentence.replace('\\n', \"\")\n",
    "    cleaned_string = sentence.replace(\"'s\", \"\")\n",
    "    return cleaned_string"
   ]
  },
  {
   "cell_type": "markdown",
   "metadata": {},
   "source": [
    "Note: Number is not needed in the embedding dictionary because Nueral Network takes each input seperately and unsequencely unlike RNN. There are no connection between next or previous word for number. For example: 80% good and 80% bad. The 80% will be calcuated as the same which is wrong. Also 89% and 90% in human context can be understood simliar but in embedding dictionary are two unique input."
   ]
  },
  {
   "cell_type": "code",
   "execution_count": 10,
   "metadata": {},
   "outputs": [],
   "source": [
    "dict2 = cleanstring(dict1)"
   ]
  },
  {
   "cell_type": "markdown",
   "metadata": {},
   "source": [
    "### Create a dictionary which count how many times a word shows up"
   ]
  },
  {
   "cell_type": "code",
   "execution_count": 20,
   "metadata": {},
   "outputs": [
    {
     "data": {
      "text/plain": [
       "98728"
      ]
     },
     "execution_count": 20,
     "metadata": {},
     "output_type": "execute_result"
    }
   ],
   "source": [
    "dict3 = dict2.split(\" \")\n",
    "word_times = {}\n",
    "for word in dict3:\n",
    "    if any(char.isdigit() for char in word):\n",
    "        pass\n",
    "    else:\n",
    "        if word in word_times:\n",
    "            word_times[word] += 1\n",
    "        else:\n",
    "            word_times[word] = 1            \n",
    "word_times.pop(\"\")"
   ]
  },
  {
   "cell_type": "code",
   "execution_count": 21,
   "metadata": {},
   "outputs": [],
   "source": [
    "words = list(word_times.keys())\n",
    "times = list(word_times.values())\n",
    "word_times1 = pd.DataFrame({\"Word\":words, \"Times\":times})\n",
    "word_times2 = word_times1.sort_values(by=[\"Times\"], ascending=False) "
   ]
  },
  {
   "cell_type": "markdown",
   "metadata": {},
   "source": [
    "#### Take Top 10000 apparent words as input vector"
   ]
  },
  {
   "cell_type": "code",
   "execution_count": 22,
   "metadata": {},
   "outputs": [],
   "source": [
    "word_times3 = word_times2[:10000]"
   ]
  },
  {
   "cell_type": "code",
   "execution_count": 23,
   "metadata": {},
   "outputs": [],
   "source": [
    "word_times3.to_csv(\"embedded_dict.csv\")"
   ]
  },
  {
   "cell_type": "markdown",
   "metadata": {},
   "source": [
    "#### Deep copy"
   ]
  },
  {
   "cell_type": "code",
   "execution_count": 24,
   "metadata": {},
   "outputs": [],
   "source": [
    "st3_copy = st3.copy()"
   ]
  },
  {
   "cell_type": "markdown",
   "metadata": {},
   "source": [
    "#### Add all sentences into one list And clean each sentence"
   ]
  },
  {
   "cell_type": "code",
   "execution_count": 25,
   "metadata": {},
   "outputs": [],
   "source": [
    "sample_data = [st3_copy.iloc[0,2].split()]\n",
    "for i in range(len(st3_copy.iloc[:,2])-1):\n",
    "    sample_data += [st3_copy.iloc[i+1,2].split()]"
   ]
  },
  {
   "cell_type": "markdown",
   "metadata": {},
   "source": [
    "#### Replace all non alphabet values in words "
   ]
  },
  {
   "cell_type": "code",
   "execution_count": 26,
   "metadata": {},
   "outputs": [],
   "source": [
    "for i in range(len(sample_data)):\n",
    "    for t in range(len(sample_data[i])):\n",
    "        sample_data[i][t] = cleanstring(sample_data[i][t])"
   ]
  },
  {
   "cell_type": "markdown",
   "metadata": {},
   "source": [
    "### checkpoint"
   ]
  },
  {
   "cell_type": "code",
   "execution_count": 28,
   "metadata": {},
   "outputs": [],
   "source": [
    "ed1 = open('embedded_dict.csv', \"r\", encoding='utf8',errors='ignore')\n",
    "ed2 = ed1.read()\n",
    "ed1.close()"
   ]
  },
  {
   "cell_type": "markdown",
   "metadata": {},
   "source": [
    "#### Get the top 10000 words as list from stored file"
   ]
  },
  {
   "cell_type": "code",
   "execution_count": 29,
   "metadata": {},
   "outputs": [],
   "source": [
    "ed3 = ed2.split('\\n')\n",
    "ed4 = []\n",
    "for i in ed3[1:-1]:\n",
    "    temp_ed =i.split(',')\n",
    "    ed4.append(temp_ed[1])"
   ]
  },
  {
   "cell_type": "code",
   "execution_count": 30,
   "metadata": {},
   "outputs": [
    {
     "data": {
      "text/plain": [
       "10000"
      ]
     },
     "execution_count": 30,
     "metadata": {},
     "output_type": "execute_result"
    }
   ],
   "source": [
    "len(ed4)"
   ]
  },
  {
   "cell_type": "markdown",
   "metadata": {},
   "source": [
    "#### Create empty matrix with 10000 + 2 * num of sample. Putting scores and index into matrix"
   ]
  },
  {
   "cell_type": "code",
   "execution_count": 31,
   "metadata": {
    "scrolled": true
   },
   "outputs": [],
   "source": [
    "sampleX1 = np.zeros(shape=(len(sample_data),len(ed4)+2),dtype=int)"
   ]
  },
  {
   "cell_type": "code",
   "execution_count": 32,
   "metadata": {},
   "outputs": [],
   "source": [
    "for t in range(len(st4['points'])):\n",
    "    sampleX1[t,-2] = st4['points'].iloc[t]\n",
    "    sampleX1[t,-1] = t"
   ]
  },
  {
   "cell_type": "code",
   "execution_count": 33,
   "metadata": {},
   "outputs": [
    {
     "data": {
      "text/plain": [
       "10002"
      ]
     },
     "execution_count": 33,
     "metadata": {},
     "output_type": "execute_result"
    }
   ],
   "source": [
    "len(sampleX1[100])"
   ]
  },
  {
   "cell_type": "code",
   "execution_count": 34,
   "metadata": {},
   "outputs": [],
   "source": [
    "for n in range(len(sample_data)):\n",
    "    sentence = sample_data[n]\n",
    "    sampleX1[-1]\n",
    "    for word in sentence:\n",
    "        if word in ed4:\n",
    "            sampleX1[n,ed4.index(word)] = 1"
   ]
  },
  {
   "cell_type": "code",
   "execution_count": 35,
   "metadata": {},
   "outputs": [
    {
     "data": {
      "text/plain": [
       "10002"
      ]
     },
     "execution_count": 35,
     "metadata": {},
     "output_type": "execute_result"
    }
   ],
   "source": [
    "len(sampleX1[1])"
   ]
  },
  {
   "cell_type": "markdown",
   "metadata": {},
   "source": [
    "### The computer can not output everything in one file. Need to seperate it then output it."
   ]
  },
  {
   "cell_type": "code",
   "execution_count": 36,
   "metadata": {},
   "outputs": [],
   "source": [
    "sa1 = sampleX1[:100000]\n",
    "sa2 = sampleX1[100000:200000]\n",
    "sa3 = sampleX1[200000:]"
   ]
  },
  {
   "cell_type": "code",
   "execution_count": 37,
   "metadata": {},
   "outputs": [],
   "source": [
    "with open('Data1.txt', 'w') as f:\n",
    "    for item in sa1.tolist():\n",
    "        f.write(\"%s\\n\" % item)\n",
    "f.close()"
   ]
  },
  {
   "cell_type": "code",
   "execution_count": 38,
   "metadata": {},
   "outputs": [],
   "source": [
    "with open('Data2.txt', 'w') as g:\n",
    "    for item in sa2.tolist():\n",
    "        g.write(\"%s\\n\" % item)\n",
    "g.close()"
   ]
  },
  {
   "cell_type": "code",
   "execution_count": 39,
   "metadata": {},
   "outputs": [],
   "source": [
    "with open('Data3.txt', 'w') as h:\n",
    "    for item in sa3.tolist():\n",
    "        h.write(\"%s\\n\" % item)\n",
    "h.close()"
   ]
  }
 ],
 "metadata": {
  "kernelspec": {
   "display_name": "Python 3",
   "language": "python",
   "name": "python3"
  },
  "language_info": {
   "codemirror_mode": {
    "name": "ipython",
    "version": 3
   },
   "file_extension": ".py",
   "mimetype": "text/x-python",
   "name": "python",
   "nbconvert_exporter": "python",
   "pygments_lexer": "ipython3",
   "version": "3.6.5"
  }
 },
 "nbformat": 4,
 "nbformat_minor": 2
}
